{
 "cells": [
  {
   "cell_type": "markdown",
   "metadata": {},
   "source": [
    "# INITIALISING DB"
   ]
  },
  {
   "cell_type": "code",
   "execution_count": null,
   "metadata": {},
   "outputs": [],
   "source": [
    "def init_connection():\n",
    "    \"\"\"Create a database connection that persists across Streamlit reruns\"\"\"\n",
    "    try:\n",
    "        # Runs locally\n",
    "        engine = create_engine('sqlite:///database.db') \n",
    "        # Test the connection\n",
    "        with engine.connect() as conn:\n",
    "            conn.execute(text(\"SELECT 1\"))\n",
    "        logger.info(\"Database connection successful\")\n",
    "        return engine\n",
    "    except Exception as e:\n",
    "        logger.error(f\"Error connecting to database: {e}\")\n",
    "        st.error(\"Failed to connect to database\")\n",
    "        return None"
   ]
  },
  {
   "cell_type": "code",
   "execution_count": null,
   "metadata": {},
   "outputs": [],
   "source": []
  }
 ],
 "metadata": {
  "kernelspec": {
   "display_name": "Python 3",
   "language": "python",
   "name": "python3"
  },
  "language_info": {
   "name": "python",
   "version": "3.12.2"
  }
 },
 "nbformat": 4,
 "nbformat_minor": 2
}
