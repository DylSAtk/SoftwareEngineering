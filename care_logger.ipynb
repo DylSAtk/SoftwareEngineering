{
 "cells": [
  {
   "cell_type": "markdown",
   "metadata": {},
   "source": [
    "# INITIALISING DB"
   ]
  },
  {
   "cell_type": "code",
   "execution_count": null,
   "metadata": {},
   "outputs": [],
   "source": [
    "def init_connection():\n",
    "    \"\"\"Create a database connection that persists across Streamlit reruns\"\"\"\n",
    "    try:\n",
    "        # Runs locally\n",
    "        engine = create_engine('sqlite:///database.db') \n",
    "        # Test the connection\n",
    "        with engine.connect() as conn:\n",
    "            conn.execute(text(\"SELECT 1\"))\n",
    "        logger.info(\"Database connection successful\")\n",
    "        return engine\n",
    "    except Exception as e:\n",
    "        logger.error(f\"Error connecting to database: {e}\")\n",
    "        st.error(\"Failed to connect to database\")\n",
    "        return None"
   ]
  },
  {
   "cell_type": "code",
   "execution_count": null,
   "metadata": {},
   "outputs": [],
   "source": [
    "def initialize_metadata():\n",
    "    \"\"\"Initialize database schema if it doesn't exist\"\"\"\n",
    "    engine = init_connection()\n",
    "    if not engine:\n",
    "        return None, None, None, None\n",
    "\n",
    "    metadata = MetaData()\n",
    "\n",
    "    # Define tables\n",
    "    residents = Table(\n",
    "        'residents', metadata,\n",
    "        Column('id', Integer, primary_key=True),\n",
    "        Column('first_name', String),\n",
    "        Column('last_name', String),\n",
    "        Column('room_num', Integer)\n",
    "    )\n",
    "\n",
    "    care_notes = Table(\n",
    "        'care_notes', metadata,\n",
    "        Column('id', Integer, primary_key=True),\n",
    "        Column('resident_id', Integer, ForeignKey('residents.id')),\n",
    "        Column('note_text', String),\n",
    "        Column('staff_name', String),\n",
    "        Column('sentiment_score', Float),\n",
    "        Column('timestamp', DateTime)\n",
    "    )\n",
    "\n",
    "    try:\n",
    "        metadata.create_all(engine)\n",
    "        logger.info(\"Database schema created successfully\")\n",
    "        return engine, metadata, residents, care_notes\n",
    "    except Exception as e:\n",
    "        logger.error(f\"Error creating database schema: {e}\")\n",
    "        st.error(\"Failed to create database schema\")\n",
    "        return None, None, None, None\n"
   ]
  }
 ],
 "metadata": {
  "kernelspec": {
   "display_name": "Python 3",
   "language": "python",
   "name": "python3"
  },
  "language_info": {
   "name": "python",
   "version": "3.12.2"
  }
 },
 "nbformat": 4,
 "nbformat_minor": 2
}
